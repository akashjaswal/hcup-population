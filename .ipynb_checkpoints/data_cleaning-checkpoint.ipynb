{
 "cells": [
  {
   "cell_type": "code",
   "execution_count": 3,
   "metadata": {
    "collapsed": true
   },
   "outputs": [],
   "source": [
    "import pandas as pd\n",
    "import numpy as np\n",
    "import matplotlib.pyplot as plt\n",
    "import datetime\n",
    "from pylab import *\n",
    "from scipy import *\n",
    "from pylab import rcParams\n",
    "import statsmodels.formula.api as smf\n",
    "%matplotlib inline"
   ]
  },
  {
   "cell_type": "code",
   "execution_count": 99,
   "metadata": {
    "collapsed": false
   },
   "outputs": [
    {
     "data": {
      "text/html": [
       "<div>\n",
       "<table border=\"1\" class=\"dataframe\">\n",
       "  <thead>\n",
       "    <tr style=\"text-align: right;\">\n",
       "      <th></th>\n",
       "      <th>0</th>\n",
       "    </tr>\n",
       "  </thead>\n",
       "  <tbody>\n",
       "    <tr>\n",
       "      <th>0</th>\n",
       "      <td>90  01001  0 1 1    239</td>\n",
       "    </tr>\n",
       "    <tr>\n",
       "      <th>1</th>\n",
       "      <td>90  01001  0 2 1    203</td>\n",
       "    </tr>\n",
       "    <tr>\n",
       "      <th>2</th>\n",
       "      <td>90  01001  1 1 1    821</td>\n",
       "    </tr>\n",
       "    <tr>\n",
       "      <th>3</th>\n",
       "      <td>90  01001  1 2 1    769</td>\n",
       "    </tr>\n",
       "    <tr>\n",
       "      <th>4</th>\n",
       "      <td>90  01001  2 1 1   1089</td>\n",
       "    </tr>\n",
       "  </tbody>\n",
       "</table>\n",
       "</div>"
      ],
      "text/plain": [
       "                         0\n",
       "0  90  01001  0 1 1    239\n",
       "1  90  01001  0 2 1    203\n",
       "2  90  01001  1 1 1    821\n",
       "3  90  01001  1 2 1    769\n",
       "4  90  01001  2 1 1   1089"
      ]
     },
     "execution_count": 99,
     "metadata": {},
     "output_type": "execute_result"
    }
   ],
   "source": [
    "raw_data_99 = pd.read_csv('/Users/Akash/Desktop/Projects/hcup-data/data/raw_data_1990_1999.txt', sep = '\\t', header = None)\n",
    "raw_data_99.head()"
   ]
  },
  {
   "cell_type": "code",
   "execution_count": null,
   "metadata": {
    "collapsed": false
   },
   "outputs": [],
   "source": [
    "# Filtering Data to retain only Washington state counties\n",
    "\n",
    "WA_data_99 = raw_data_99[(raw_data_99[0].str.contains('53001')) |\n",
    "                         (raw_data_99[0].str.contains('53003')) | \n",
    "                         (raw_data_99[0].str.contains('53005')) | \n",
    "                         (raw_data_99[0].str.contains('53007')) | \n",
    "                         (raw_data_99[0].str.contains('53009')) | \n",
    "                         (raw_data_99[0].str.contains('53011')) |\n",
    "                         (raw_data_99[0].str.contains('53013')) |\n",
    "                         (raw_data_99[0].str.contains('53015')) |\n",
    "                         (raw_data_99[0].str.contains('53017')) |\n",
    "                         (raw_data_99[0].str.contains('53019')) |\n",
    "                         (raw_data_99[0].str.contains('53021')) |\n",
    "                         (raw_data_99[0].str.contains('53023')) |\n",
    "                         (raw_data_99[0].str.contains('53025')) |\n",
    "                         (raw_data_99[0].str.contains('53027')) |\n",
    "                         (raw_data_99[0].str.contains('53029')) |\n",
    "                         (raw_data_99[0].str.contains('53031')) |\n",
    "                         (raw_data_99[0].str.contains('53033')) |\n",
    "                         (raw_data_99[0].str.contains('53035')) |\n",
    "                         (raw_data_99[0].str.contains('53037')) |\n",
    "                         (raw_data_99[0].str.contains('53039')) |\n",
    "                         (raw_data_99[0].str.contains('53041')) |\n",
    "                         (raw_data_99[0].str.contains('53043')) |\n",
    "                         (raw_data_99[0].str.contains('53045')) |\n",
    "                         (raw_data_99[0].str.contains('53047')) |\n",
    "                         (raw_data_99[0].str.contains('53049')) |\n",
    "                         (raw_data_99[0].str.contains('53051')) |\n",
    "                         (raw_data_99[0].str.contains('53053')) |\n",
    "                         (raw_data_99[0].str.contains('53055')) |\n",
    "                         (raw_data_99[0].str.contains('53057')) |\n",
    "                         (raw_data_99[0].str.contains('53059')) |\n",
    "                         (raw_data_99[0].str.contains('53061')) |\n",
    "                         (raw_data_99[0].str.contains('53063')) |\n",
    "                         (raw_data_99[0].str.contains('53065')) |\n",
    "                         (raw_data_99[0].str.contains('53067')) |\n",
    "                         (raw_data_99[0].str.contains('53069')) |\n",
    "                         (raw_data_99[0].str.contains('53071')) |\n",
    "                         (raw_data_99[0].str.contains('53073')) |\n",
    "                         (raw_data_99[0].str.contains('53075')) |\n",
    "                         (raw_data_99[0].str.contains('53077'))]"
   ]
  },
  {
   "cell_type": "code",
   "execution_count": 100,
   "metadata": {
    "collapsed": false
   },
   "outputs": [
    {
     "ename": "NameError",
     "evalue": "name 'WA_data_99' is not defined",
     "output_type": "error",
     "traceback": [
      "\u001b[0;31m---------------------------------------------------------------------------\u001b[0m",
      "\u001b[0;31mNameError\u001b[0m                                 Traceback (most recent call last)",
      "\u001b[0;32m<ipython-input-100-f911e8bbea3e>\u001b[0m in \u001b[0;36m<module>\u001b[0;34m()\u001b[0m\n\u001b[0;32m----> 1\u001b[0;31m \u001b[0mlen\u001b[0m\u001b[0;34m(\u001b[0m\u001b[0mWA_data_99\u001b[0m\u001b[0;34m)\u001b[0m\u001b[0;34m\u001b[0m\u001b[0m\n\u001b[0m\u001b[1;32m      2\u001b[0m \u001b[0mWA_data_99\u001b[0m\u001b[0;34m.\u001b[0m\u001b[0mhead\u001b[0m\u001b[0;34m(\u001b[0m\u001b[0;34m)\u001b[0m\u001b[0;34m\u001b[0m\u001b[0m\n",
      "\u001b[0;31mNameError\u001b[0m: name 'WA_data_99' is not defined"
     ]
    }
   ],
   "source": [
    "len(WA_data_99)\n",
    "WA_data_99.head()"
   ]
  },
  {
   "cell_type": "code",
   "execution_count": null,
   "metadata": {
    "collapsed": false
   },
   "outputs": [],
   "source": [
    "WA_data_99_clean = pd.DataFrame(columns = ['year','FIPS_state_code','FIPS_county_code','race_sex','ethnic_origin','pop'])\n",
    "val = []\n"
   ]
  },
  {
   "cell_type": "code",
   "execution_count": null,
   "metadata": {
    "collapsed": false
   },
   "outputs": [],
   "source": [
    "index_vals = range(len(WA_data_99))\n",
    "WA_data = list(WA_data_99[0])\n",
    "WA_data_99_df = pd.DataFrame(WA_data,index=index_vals)\n"
   ]
  },
  {
   "cell_type": "code",
   "execution_count": null,
   "metadata": {
    "collapsed": false
   },
   "outputs": [],
   "source": [
    "def append_df(val,i):\n",
    "    WA_data_99_clean.set_value(i, 'year', val[1])\n",
    "    WA_data_99_clean.set_value(i,'FIPS_state_code', val[2])\n",
    "    WA_data_99_clean.set_value(i,'FIPS_county_code', val[3])\n",
    "    WA_data_99_clean.set_value(i,'race_sex', val[4])\n",
    "    WA_data_99_clean.set_value(i,'ethnic_origin', val[5])\n",
    "    WA_data_99_clean.set_value(i,'pop', val[6])\n",
    "\n",
    "for i in WA_data_99_df.index.tolist():\n",
    "    val = list(str(WA_data_99_df.iloc[i]).split())\n",
    "    append_df(val,i)\n",
    "\n"
   ]
  },
  {
   "cell_type": "code",
   "execution_count": 4,
   "metadata": {
    "collapsed": false
   },
   "outputs": [
    {
     "ename": "NameError",
     "evalue": "name 'WA_data_99_clean' is not defined",
     "output_type": "error",
     "traceback": [
      "\u001b[0;31m---------------------------------------------------------------------------\u001b[0m",
      "\u001b[0;31mNameError\u001b[0m                                 Traceback (most recent call last)",
      "\u001b[0;32m<ipython-input-4-c3134c56f852>\u001b[0m in \u001b[0;36m<module>\u001b[0;34m()\u001b[0m\n\u001b[0;32m----> 1\u001b[0;31m \u001b[0mWA_data_99_clean\u001b[0m\u001b[0;34m.\u001b[0m\u001b[0mto_csv\u001b[0m\u001b[0;34m(\u001b[0m\u001b[0;34m\"WA_data_99_clean.csv\"\u001b[0m\u001b[0;34m,\u001b[0m \u001b[0mcols\u001b[0m \u001b[0;34m=\u001b[0m\u001b[0;34m[\u001b[0m\u001b[0;34m'year'\u001b[0m\u001b[0;34m,\u001b[0m\u001b[0;34m'FIPS_state_code'\u001b[0m\u001b[0;34m,\u001b[0m\u001b[0;34m'FIPS_county_code'\u001b[0m\u001b[0;34m,\u001b[0m\u001b[0;34m'race_sex'\u001b[0m\u001b[0;34m,\u001b[0m\u001b[0;34m'ethnic_origin'\u001b[0m\u001b[0;34m,\u001b[0m\u001b[0;34m'pop'\u001b[0m\u001b[0;34m]\u001b[0m\u001b[0;34m)\u001b[0m\u001b[0;34m\u001b[0m\u001b[0m\n\u001b[0m",
      "\u001b[0;31mNameError\u001b[0m: name 'WA_data_99_clean' is not defined"
     ]
    }
   ],
   "source": [
    "WA_data_99_clean.to_csv(\"WA_data_99_clean.csv\", cols =['year','FIPS_state_code','FIPS_county_code','race_sex','ethnic_origin','pop'])"
   ]
  },
  {
   "cell_type": "code",
   "execution_count": 80,
   "metadata": {
    "collapsed": false
   },
   "outputs": [],
   "source": [
    "WA_data_99_clean = pd.read_csv(\"/Users/Akash/Desktop/Projects/hcup-population/WA_data_99_clean.csv\")"
   ]
  },
  {
   "cell_type": "code",
   "execution_count": 104,
   "metadata": {
    "collapsed": false
   },
   "outputs": [
    {
     "data": {
      "text/html": [
       "<div>\n",
       "<table border=\"1\" class=\"dataframe\">\n",
       "  <thead>\n",
       "    <tr style=\"text-align: right;\">\n",
       "      <th></th>\n",
       "      <th>Unnamed: 0</th>\n",
       "      <th>year</th>\n",
       "      <th>FIPS_state_code</th>\n",
       "      <th>age_group</th>\n",
       "      <th>race_sex</th>\n",
       "      <th>ethnic_origin</th>\n",
       "      <th>population</th>\n",
       "      <th>race_sex_name</th>\n",
       "      <th>county</th>\n",
       "    </tr>\n",
       "  </thead>\n",
       "  <tbody>\n",
       "    <tr>\n",
       "      <th>0</th>\n",
       "      <td>0</td>\n",
       "      <td>90</td>\n",
       "      <td>53001</td>\n",
       "      <td>0</td>\n",
       "      <td>1</td>\n",
       "      <td>1</td>\n",
       "      <td>64</td>\n",
       "      <td>1</td>\n",
       "      <td>53001</td>\n",
       "    </tr>\n",
       "    <tr>\n",
       "      <th>1</th>\n",
       "      <td>1</td>\n",
       "      <td>90</td>\n",
       "      <td>53001</td>\n",
       "      <td>0</td>\n",
       "      <td>2</td>\n",
       "      <td>1</td>\n",
       "      <td>72</td>\n",
       "      <td>2</td>\n",
       "      <td>53001</td>\n",
       "    </tr>\n",
       "    <tr>\n",
       "      <th>2</th>\n",
       "      <td>2</td>\n",
       "      <td>90</td>\n",
       "      <td>53001</td>\n",
       "      <td>1</td>\n",
       "      <td>1</td>\n",
       "      <td>1</td>\n",
       "      <td>273</td>\n",
       "      <td>1</td>\n",
       "      <td>53001</td>\n",
       "    </tr>\n",
       "    <tr>\n",
       "      <th>3</th>\n",
       "      <td>3</td>\n",
       "      <td>90</td>\n",
       "      <td>53001</td>\n",
       "      <td>1</td>\n",
       "      <td>2</td>\n",
       "      <td>1</td>\n",
       "      <td>233</td>\n",
       "      <td>2</td>\n",
       "      <td>53001</td>\n",
       "    </tr>\n",
       "    <tr>\n",
       "      <th>4</th>\n",
       "      <td>4</td>\n",
       "      <td>90</td>\n",
       "      <td>53001</td>\n",
       "      <td>2</td>\n",
       "      <td>1</td>\n",
       "      <td>1</td>\n",
       "      <td>399</td>\n",
       "      <td>1</td>\n",
       "      <td>53001</td>\n",
       "    </tr>\n",
       "  </tbody>\n",
       "</table>\n",
       "</div>"
      ],
      "text/plain": [
       "   Unnamed: 0  year  FIPS_state_code  age_group  race_sex  ethnic_origin  \\\n",
       "0           0    90            53001          0         1              1   \n",
       "1           1    90            53001          0         2              1   \n",
       "2           2    90            53001          1         1              1   \n",
       "3           3    90            53001          1         2              1   \n",
       "4           4    90            53001          2         1              1   \n",
       "\n",
       "   population  race_sex_name  county  \n",
       "0          64              1   53001  \n",
       "1          72              2   53001  \n",
       "2         273              1   53001  \n",
       "3         233              2   53001  \n",
       "4         399              1   53001  "
      ]
     },
     "execution_count": 104,
     "metadata": {},
     "output_type": "execute_result"
    }
   ],
   "source": [
    "WA_data_99_clean = WA_data_99_clean.rename(columns={'FIPS_county_code':'age_group'})\n",
    "WA_data_99_clean = WA_data_99_clean.rename(columns = {'pop': 'population'})\n",
    "WA_data_99_clean.head()"
   ]
  },
  {
   "cell_type": "code",
   "execution_count": 162,
   "metadata": {
    "collapsed": false
   },
   "outputs": [
    {
     "data": {
      "text/html": [
       "<div>\n",
       "<table border=\"1\" class=\"dataframe\">\n",
       "  <thead>\n",
       "    <tr style=\"text-align: right;\">\n",
       "      <th></th>\n",
       "      <th>Unnamed: 0</th>\n",
       "      <th>year</th>\n",
       "      <th>FIPS_state_code</th>\n",
       "      <th>age_group</th>\n",
       "      <th>race_sex</th>\n",
       "      <th>ethnic_origin</th>\n",
       "      <th>population</th>\n",
       "      <th>race_sex_name</th>\n",
       "      <th>county</th>\n",
       "      <th>ethnicity</th>\n",
       "      <th>age_category</th>\n",
       "    </tr>\n",
       "  </thead>\n",
       "  <tbody>\n",
       "    <tr>\n",
       "      <th>0</th>\n",
       "      <td>0</td>\n",
       "      <td>90</td>\n",
       "      <td>53001</td>\n",
       "      <td>0</td>\n",
       "      <td>1</td>\n",
       "      <td>not_hispanic/latino</td>\n",
       "      <td>64</td>\n",
       "      <td>white_male</td>\n",
       "      <td>Adams</td>\n",
       "      <td>1</td>\n",
       "      <td>below 1 yr</td>\n",
       "    </tr>\n",
       "    <tr>\n",
       "      <th>1</th>\n",
       "      <td>1</td>\n",
       "      <td>90</td>\n",
       "      <td>53001</td>\n",
       "      <td>0</td>\n",
       "      <td>2</td>\n",
       "      <td>not_hispanic/latino</td>\n",
       "      <td>72</td>\n",
       "      <td>white_female</td>\n",
       "      <td>Adams</td>\n",
       "      <td>2</td>\n",
       "      <td>below 1 yr</td>\n",
       "    </tr>\n",
       "    <tr>\n",
       "      <th>2</th>\n",
       "      <td>2</td>\n",
       "      <td>90</td>\n",
       "      <td>53001</td>\n",
       "      <td>1</td>\n",
       "      <td>1</td>\n",
       "      <td>not_hispanic/latino</td>\n",
       "      <td>273</td>\n",
       "      <td>white_male</td>\n",
       "      <td>Adams</td>\n",
       "      <td>1</td>\n",
       "      <td>1-4 yrs</td>\n",
       "    </tr>\n",
       "    <tr>\n",
       "      <th>3</th>\n",
       "      <td>3</td>\n",
       "      <td>90</td>\n",
       "      <td>53001</td>\n",
       "      <td>1</td>\n",
       "      <td>2</td>\n",
       "      <td>not_hispanic/latino</td>\n",
       "      <td>233</td>\n",
       "      <td>white_female</td>\n",
       "      <td>Adams</td>\n",
       "      <td>2</td>\n",
       "      <td>1-4 yrs</td>\n",
       "    </tr>\n",
       "    <tr>\n",
       "      <th>4</th>\n",
       "      <td>4</td>\n",
       "      <td>90</td>\n",
       "      <td>53001</td>\n",
       "      <td>2</td>\n",
       "      <td>1</td>\n",
       "      <td>not_hispanic/latino</td>\n",
       "      <td>399</td>\n",
       "      <td>white_male</td>\n",
       "      <td>Adams</td>\n",
       "      <td>1</td>\n",
       "      <td>5-9 yrs</td>\n",
       "    </tr>\n",
       "  </tbody>\n",
       "</table>\n",
       "</div>"
      ],
      "text/plain": [
       "   Unnamed: 0  year  FIPS_state_code  age_group  race_sex  \\\n",
       "0           0    90            53001          0         1   \n",
       "1           1    90            53001          0         2   \n",
       "2           2    90            53001          1         1   \n",
       "3           3    90            53001          1         2   \n",
       "4           4    90            53001          2         1   \n",
       "\n",
       "         ethnic_origin  population race_sex_name county  ethnicity  \\\n",
       "0  not_hispanic/latino          64    white_male  Adams          1   \n",
       "1  not_hispanic/latino          72  white_female  Adams          2   \n",
       "2  not_hispanic/latino         273    white_male  Adams          1   \n",
       "3  not_hispanic/latino         233  white_female  Adams          2   \n",
       "4  not_hispanic/latino         399    white_male  Adams          1   \n",
       "\n",
       "  age_category  \n",
       "0   below 1 yr  \n",
       "1   below 1 yr  \n",
       "2      1-4 yrs  \n",
       "3      1-4 yrs  \n",
       "4      5-9 yrs  "
      ]
     },
     "execution_count": 162,
     "metadata": {},
     "output_type": "execute_result"
    }
   ],
   "source": [
    "WA_data_99_clean1 = WA_data_99_clean\n",
    "WA_data_99_clean1['race_sex_name'] = WA_data_99_clean1['race_sex']\n",
    "WA_data_99_clean1[\"county\"] = WA_data_99_clean1['FIPS_state_code']\n",
    "WA_data_99_clean1['age_category'] = WA_data_99_clean1['age_group']\n",
    "\n",
    "WA_data_99_clean1 = WA_data_99_clean.replace(to_replace={'race_sex_name': {1: \"white_male\", 2: \"white_female\", 3: \"black_male\", 4: \"black_female\",\n",
    "                                                 5: \"american_indian/alaska_male\", 6: \"american_indian/alaska_female\", 7: \"asian/pacific_male\", \n",
    "                                                  8: \"asian/pacific_female\"} , 'ethnic_origin': {1: \"not_hispanic/latino\", 2: \"hispanic/latino\"}})\n",
    "\n",
    "WA_data_99_clean1 = WA_data_99_clean1.replace(to_replace = {'county':{53001:'Adams', 53003:'Asotin', 53005: 'Benton', 53007:'Chelan',\n",
    "                                                                     53009: 'Clallam', 53011:'Clark', 53013:'Columbia', 53015:'Cowlitz', 53017: 'Douglas',\n",
    "                                                                     53019: 'Ferry', 53021: 'Franklin', 53023:'Garfield', 53025: 'Grant', 53027: 'Grays Harbor', 53029:'Island', 53031: 'Jefferson',\n",
    "                                                                     53033: 'King', 53035: 'Kitsap', 53037: 'Kittitas', 53039: 'Klickitat', 53041: 'Lewis', 53043: 'Lincoln', \n",
    "                                                                     53045: 'Mason', 53047: 'Okanogan', 53049: 'Pacific', 53051: 'Pend Oreille', 53053: 'Pierce', 53055: 'San Juan', \n",
    "                                                                     53057: 'Skagit', 53059: 'Skamania', 53061: 'Snohomish', 53063: 'Spokane', 53065: 'Stevens', 53067: 'Thurston', \n",
    "                                                                     53069: 'Wahkiakum', 53071: 'Walla Walla', 53073: 'Whatcom', 53075: 'Whitman', 53077: 'Yakima'}})\n",
    "\n",
    "WA_data_99_clean1 = WA_data_99_clean1.replace(to_replace = {'age_category': {0:'below 1 yr', 1: '1-4 yrs', 2: '5-9 yrs', 3: '10-14 yrs', 4: '15-19 yrs', \n",
    "                                                     5: '20-24 yrs', 6: '25-29 yrs', 7: '30-34 yrs', 8: '35-39 yrs', 9: '40-44 yrs', \n",
    "                                                     10: '45-49 yrs', 11: '50-54 yrs', 12: '55-59 yrs', 13: '60-64 yrs', 14: '65-69 yrs',\n",
    "                                                     15: '70-74 yrs', 16: '75-79 yrs', 17:'80-84 yrs', 18: 'over 85 yrs'}})\n",
    "WA_data_99_clean1.head()"
   ]
  },
  {
   "cell_type": "code",
   "execution_count": 158,
   "metadata": {
    "collapsed": false
   },
   "outputs": [
    {
     "data": {
      "text/html": [
       "<div>\n",
       "<table border=\"1\" class=\"dataframe\">\n",
       "  <thead>\n",
       "    <tr style=\"text-align: right;\">\n",
       "      <th></th>\n",
       "      <th>county</th>\n",
       "      <th>year</th>\n",
       "      <th>total_population</th>\n",
       "    </tr>\n",
       "  </thead>\n",
       "  <tbody>\n",
       "    <tr>\n",
       "      <th>0</th>\n",
       "      <td>Adams</td>\n",
       "      <td>90</td>\n",
       "      <td>13636</td>\n",
       "    </tr>\n",
       "    <tr>\n",
       "      <th>1</th>\n",
       "      <td>Asotin</td>\n",
       "      <td>90</td>\n",
       "      <td>17666</td>\n",
       "    </tr>\n",
       "    <tr>\n",
       "      <th>2</th>\n",
       "      <td>Benton</td>\n",
       "      <td>90</td>\n",
       "      <td>113583</td>\n",
       "    </tr>\n",
       "    <tr>\n",
       "      <th>3</th>\n",
       "      <td>Chelan</td>\n",
       "      <td>90</td>\n",
       "      <td>52476</td>\n",
       "    </tr>\n",
       "    <tr>\n",
       "      <th>4</th>\n",
       "      <td>Clallam</td>\n",
       "      <td>90</td>\n",
       "      <td>56525</td>\n",
       "    </tr>\n",
       "  </tbody>\n",
       "</table>\n",
       "</div>"
      ],
      "text/plain": [
       "    county  year  total_population\n",
       "0    Adams    90             13636\n",
       "1   Asotin    90             17666\n",
       "2   Benton    90            113583\n",
       "3   Chelan    90             52476\n",
       "4  Clallam    90             56525"
      ]
     },
     "execution_count": 158,
     "metadata": {},
     "output_type": "execute_result"
    }
   ],
   "source": [
    "WA_population = pd.DataFrame(WA_data_99_clean1.groupby(['year','county']).sum()['population'])\n",
    "WA_population.reset_index(level=0, inplace = True)\n",
    "WA_population.reset_index(level=0, inplace = True)\n",
    "WA_population = WA_population.rename(columns = {'population': 'total_population'})\n",
    "WA_population.head()"
   ]
  },
  {
   "cell_type": "code",
   "execution_count": 159,
   "metadata": {
    "collapsed": false
   },
   "outputs": [],
   "source": [
    "pop_gender = WA_data_99_clean1\n",
    "pop_gender.head()\n",
    "pop_gender['gender'] = pop_gender['race_sex']\n",
    "pop_gender = pop_gender.replace(to_replace = {'gender': {1:'M', 2: 'F', 3:'M', 4:'F', 5:'M', 6:'F', 7:'M', 8:'F'}})\n",
    "pop_gender = pd.DataFrame(pop_gender.groupby(['year','county','gender']).sum()['population'])\n",
    "pop_gender.reset_index(level = 0, inplace = True)\n",
    "pop_gender.reset_index(level = 0, inplace = True)\n",
    "pop_gender.reset_index(level = 0, inplace = True)"
   ]
  },
  {
   "cell_type": "code",
   "execution_count": 160,
   "metadata": {
    "collapsed": false,
    "scrolled": false
   },
   "outputs": [
    {
     "data": {
      "text/html": [
       "<div>\n",
       "<table border=\"1\" class=\"dataframe\">\n",
       "  <thead>\n",
       "    <tr style=\"text-align: right;\">\n",
       "      <th></th>\n",
       "      <th>county</th>\n",
       "      <th>year</th>\n",
       "      <th>population_male</th>\n",
       "      <th>total_population</th>\n",
       "    </tr>\n",
       "  </thead>\n",
       "  <tbody>\n",
       "    <tr>\n",
       "      <th>0</th>\n",
       "      <td>Adams</td>\n",
       "      <td>90</td>\n",
       "      <td>6879</td>\n",
       "      <td>13636</td>\n",
       "    </tr>\n",
       "    <tr>\n",
       "      <th>1</th>\n",
       "      <td>Asotin</td>\n",
       "      <td>90</td>\n",
       "      <td>8416</td>\n",
       "      <td>17666</td>\n",
       "    </tr>\n",
       "    <tr>\n",
       "      <th>2</th>\n",
       "      <td>Benton</td>\n",
       "      <td>90</td>\n",
       "      <td>56167</td>\n",
       "      <td>113583</td>\n",
       "    </tr>\n",
       "    <tr>\n",
       "      <th>3</th>\n",
       "      <td>Chelan</td>\n",
       "      <td>90</td>\n",
       "      <td>25901</td>\n",
       "      <td>52476</td>\n",
       "    </tr>\n",
       "    <tr>\n",
       "      <th>4</th>\n",
       "      <td>Clallam</td>\n",
       "      <td>90</td>\n",
       "      <td>28008</td>\n",
       "      <td>56525</td>\n",
       "    </tr>\n",
       "  </tbody>\n",
       "</table>\n",
       "</div>"
      ],
      "text/plain": [
       "    county  year  population_male  total_population\n",
       "0    Adams    90             6879             13636\n",
       "1   Asotin    90             8416             17666\n",
       "2   Benton    90            56167            113583\n",
       "3   Chelan    90            25901             52476\n",
       "4  Clallam    90            28008             56525"
      ]
     },
     "execution_count": 160,
     "metadata": {},
     "output_type": "execute_result"
    }
   ],
   "source": [
    "pop_male = pop_gender[pop_gender['gender'] == 'M']\n",
    "pop_male = pop_male.rename(columns = {'population':'population_male'})\n",
    "WA_population = pd.merge(pop_male[['county','year','population_male']], WA_population, on = ['county','year'], how = 'inner')\n",
    "\n",
    "WA_population.head()"
   ]
  },
  {
   "cell_type": "code",
   "execution_count": 161,
   "metadata": {
    "collapsed": false
   },
   "outputs": [
    {
     "data": {
      "text/html": [
       "<div>\n",
       "<table border=\"1\" class=\"dataframe\">\n",
       "  <thead>\n",
       "    <tr style=\"text-align: right;\">\n",
       "      <th></th>\n",
       "      <th>county</th>\n",
       "      <th>year</th>\n",
       "      <th>population_female</th>\n",
       "      <th>population_male</th>\n",
       "      <th>total_population</th>\n",
       "    </tr>\n",
       "  </thead>\n",
       "  <tbody>\n",
       "    <tr>\n",
       "      <th>0</th>\n",
       "      <td>Adams</td>\n",
       "      <td>90</td>\n",
       "      <td>6757</td>\n",
       "      <td>6879</td>\n",
       "      <td>13636</td>\n",
       "    </tr>\n",
       "    <tr>\n",
       "      <th>1</th>\n",
       "      <td>Asotin</td>\n",
       "      <td>90</td>\n",
       "      <td>9250</td>\n",
       "      <td>8416</td>\n",
       "      <td>17666</td>\n",
       "    </tr>\n",
       "    <tr>\n",
       "      <th>2</th>\n",
       "      <td>Benton</td>\n",
       "      <td>90</td>\n",
       "      <td>57416</td>\n",
       "      <td>56167</td>\n",
       "      <td>113583</td>\n",
       "    </tr>\n",
       "    <tr>\n",
       "      <th>3</th>\n",
       "      <td>Chelan</td>\n",
       "      <td>90</td>\n",
       "      <td>26575</td>\n",
       "      <td>25901</td>\n",
       "      <td>52476</td>\n",
       "    </tr>\n",
       "    <tr>\n",
       "      <th>4</th>\n",
       "      <td>Clallam</td>\n",
       "      <td>90</td>\n",
       "      <td>28517</td>\n",
       "      <td>28008</td>\n",
       "      <td>56525</td>\n",
       "    </tr>\n",
       "  </tbody>\n",
       "</table>\n",
       "</div>"
      ],
      "text/plain": [
       "    county  year  population_female  population_male  total_population\n",
       "0    Adams    90               6757             6879             13636\n",
       "1   Asotin    90               9250             8416             17666\n",
       "2   Benton    90              57416            56167            113583\n",
       "3   Chelan    90              26575            25901             52476\n",
       "4  Clallam    90              28517            28008             56525"
      ]
     },
     "execution_count": 161,
     "metadata": {},
     "output_type": "execute_result"
    }
   ],
   "source": [
    "pop_female = pop_gender[pop_gender['gender'] == 'F']\n",
    "pop_female = pop_female.rename(columns = {'population':'population_female'})\n",
    "WA_population = pd.merge(pop_female[['county','year','population_female']], WA_population, on = ['county','year'], how = 'inner')\n",
    "\n",
    "WA_population.head()"
   ]
  },
  {
   "cell_type": "code",
   "execution_count": null,
   "metadata": {
    "collapsed": false
   },
   "outputs": [],
   "source": []
  },
  {
   "cell_type": "code",
   "execution_count": null,
   "metadata": {
    "collapsed": false
   },
   "outputs": [],
   "source": []
  },
  {
   "cell_type": "code",
   "execution_count": null,
   "metadata": {
    "collapsed": false
   },
   "outputs": [],
   "source": []
  },
  {
   "cell_type": "code",
   "execution_count": null,
   "metadata": {
    "collapsed": true
   },
   "outputs": [],
   "source": []
  }
 ],
 "metadata": {
  "kernelspec": {
   "display_name": "Python 2",
   "language": "python",
   "name": "python2"
  },
  "language_info": {
   "codemirror_mode": {
    "name": "ipython",
    "version": 2
   },
   "file_extension": ".py",
   "mimetype": "text/x-python",
   "name": "python",
   "nbconvert_exporter": "python",
   "pygments_lexer": "ipython2",
   "version": "2.7.11"
  }
 },
 "nbformat": 4,
 "nbformat_minor": 0
}
